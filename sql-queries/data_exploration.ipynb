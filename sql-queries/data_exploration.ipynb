{
 "cells": [
  {
   "cell_type": "code",
   "execution_count": 0,
   "metadata": {
    "application/vnd.databricks.v1+cell": {
     "cellMetadata": {},
     "inputWidgets": {},
     "nuid": "f50bccbf-9144-4299-9547-b9500ba8db22",
     "showTitle": false,
     "tableResultSettingsMap": {},
     "title": ""
    }
   },
   "outputs": [],
   "source": [
    "X  date                    datetime64[ns]\n",
    "X  category                        object\n",
    "X  source                          object\n",
    "X  rating                         float64\n",
    "X  review_text                     object\n",
    "X  sentiment                       object\n",
    "  quality_score                  float64\n",
    "  price_score                    float64\n",
    "  service_score                  float64\n",
    "  innovation_score               float64\n",
    "  design_score                   float64\n",
    "  market_share                   float64 random numbers now\n",
    "  competitive_position           float64\n",
    "X  month                            int32\n",
    "X  quarter                          int32\n",
    "  seasonal_rating                float64\n",
    "  review_category                 object\n",
    "X  review_length                    int64\n",
    "  response_time                  float64\n",
    "  resolution_time                float64"
   ]
  },
  {
   "cell_type": "code",
   "execution_count": 0,
   "metadata": {
    "application/vnd.databricks.v1+cell": {
     "cellMetadata": {
      "byteLimit": 2048000,
      "implicitDf": true,
      "rowLimit": 10000
     },
     "inputWidgets": {},
     "nuid": "66bf65e1-a2ca-453d-b3e6-dfd817cf7ee4",
     "showTitle": false,
     "tableResultSettingsMap": {},
     "title": ""
    }
   },
   "outputs": [],
   "source": [
    "%sql\n",
    "\n",
    "CREATE OR REPLACE VIEW retail_cpg_demo.brand_manager.vw_brand_insights AS\n",
    "\n",
    "WITH brand_prices AS (\n",
    "  SELECT\n",
    "    store,\n",
    "    avg(price) as avg_price,\n",
    "    count(distinct parent_asin) as num_products\n",
    "  FROM retail_cpg_demo.brand_manager.product_details\n",
    "  GROUP BY store\n",
    ")\n",
    "\n",
    "SELECT\n",
    "  r.date,\n",
    "  d.main_category AS category,\n",
    "  d.store AS brand,\n",
    "  r.rating,\n",
    "  r.text AS review_text,\n",
    "  get_json_object(r.structured_review, '$.sentiment') AS sentiment,\n",
    "  p.avg_price AS avg_brand_price,\n",
    "  p.num_products AS num_brand_products\n",
    "FROM retail_cpg_demo.brand_manager.product_reviews_structured r\n",
    "INNER JOIN retail_cpg_demo.brand_manager.product_details d\n",
    "  ON r.parent_asin = d.parent_asin\n",
    "LEFT JOIN brand_prices p\n",
    "  ON d.store = p.store\n",
    "WHERE d.main_category IS NOT NULL\n",
    "  "
   ]
  },
  {
   "cell_type": "code",
   "execution_count": 0,
   "metadata": {
    "application/vnd.databricks.v1+cell": {
     "cellMetadata": {
      "byteLimit": 2048000,
      "implicitDf": true,
      "rowLimit": 10000
     },
     "inputWidgets": {},
     "nuid": "59dfcf6b-aeed-4019-b52e-614782e2c781",
     "showTitle": false,
     "tableResultSettingsMap": {},
     "title": ""
    }
   },
   "outputs": [],
   "source": [
    "%sql\n",
    "\n",
    "SELECT count(1) from retail_cpg_demo.brand_manager.vw_brand_insights"
   ]
  },
  {
   "cell_type": "code",
   "execution_count": 0,
   "metadata": {
    "application/vnd.databricks.v1+cell": {
     "cellMetadata": {
      "byteLimit": 2048000,
      "implicitDf": true,
      "rowLimit": 10000
     },
     "inputWidgets": {},
     "nuid": "e3546cda-4c30-4e49-9f50-6e6c3f4e3ee9",
     "showTitle": false,
     "tableResultSettingsMap": {},
     "title": ""
    }
   },
   "outputs": [],
   "source": [
    "%sql\n",
    "select * from retail_cpg_demo.brand_manager.product_reviews_structured\n",
    "limit 1000"
   ]
  },
  {
   "cell_type": "code",
   "execution_count": 0,
   "metadata": {
    "application/vnd.databricks.v1+cell": {
     "cellMetadata": {
      "byteLimit": 2048000,
      "implicitDf": true,
      "rowLimit": 10000
     },
     "inputWidgets": {},
     "nuid": "87e7c61e-0c14-46d6-8dc2-7809e0a8f241",
     "showTitle": false,
     "tableResultSettingsMap": {},
     "title": ""
    }
   },
   "outputs": [],
   "source": [
    "%sql\n",
    "\n",
    "SELECT\n",
    "* FROM retail_cpg_demo.brand_manager.product_details limit 10"
   ]
  }
 ],
 "metadata": {
  "application/vnd.databricks.v1+notebook": {
   "computePreferences": null,
   "dashboards": [],
   "environmentMetadata": {
    "base_environment": "",
    "environment_version": "2"
   },
   "inputWidgetPreferences": null,
   "language": "python",
   "notebookMetadata": {
    "mostRecentlyExecutedCommandWithImplicitDF": {
     "commandId": 2841115367038492,
     "dataframes": [
      "_sqldf"
     ]
    },
    "pythonIndentUnit": 2
   },
   "notebookName": "data_exploration",
   "widgets": {}
  },
  "language_info": {
   "name": "python"
  }
 },
 "nbformat": 4,
 "nbformat_minor": 0
}
