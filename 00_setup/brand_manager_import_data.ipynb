{
 "cells": [
  {
   "cell_type": "code",
   "execution_count": 0,
   "metadata": {
    "application/vnd.databricks.v1+cell": {
     "cellMetadata": {
      "byteLimit": 2048000,
      "implicitDf": true,
      "rowLimit": 10000
     },
     "collapsed": true,
     "inputWidgets": {},
     "nuid": "88225d5e-0f82-4643-a3cb-a9e33be1e332",
     "showTitle": false,
     "tableResultSettingsMap": {},
     "title": ""
    }
   },
   "outputs": [],
   "source": [
    "%sql\n",
    "Create catalog if not exists retail_cpg_demo;\n",
    "Create schema if not exists retail_cpg_demo.brand_manager;"
   ]
  },
  {
   "cell_type": "code",
   "execution_count": 0,
   "metadata": {
    "application/vnd.databricks.v1+cell": {
     "cellMetadata": {
      "byteLimit": 2048000,
      "implicitDf": true,
      "rowLimit": 10000
     },
     "inputWidgets": {},
     "nuid": "547f6d89-2df5-4f99-b171-5f56c3451210",
     "showTitle": false,
     "tableResultSettingsMap": {},
     "title": ""
    }
   },
   "outputs": [],
   "source": [
    "%sql\n",
    "Create or replace table retail_cpg_demo.brand_manager.product_reviews (\n",
    "  rating DOUBLE COMMENT 'Rating of the product (from 1.0 to 5.0)',\n",
    "  title STRING COMMENT 'Title of the user review',\n",
    "  text STRING COMMENT 'Text body of the user review',\n",
    "  images VARIANT COMMENT 'Images that users post after they have received the product. Each image has different sizes (small, medium, large), represented by the small_image_url, medium_image_url, and large_image_url respectively',\n",
    "  asin STRING COMMENT 'ID of the product',\n",
    "  parent_asin STRING COMMENT 'Parent ID of the product. Products with different colors, styles, sizes usually belong to the same parent ID. The “asin” in previous Amazon datasets is actually parent ID. Please use parent ID to find product meta',\n",
    "  user_id STRING COMMENT 'ID of the reviewer',\n",
    "  timestamp BIGINT COMMENT 'Time of the review (unix time)',\n",
    "  verified_purchase BOOLEAN COMMENT 'User purchase verification',\n",
    "  helpful_vote LONG COMMENT 'Helpful votes of the review'\n",
    ")\n",
    "USING delta\n",
    "CLUSTER BY (parent_asin, asin, timestamp, rating)\n",
    "COMMENT 'Reviews of products';"
   ]
  },
  {
   "cell_type": "code",
   "execution_count": 0,
   "metadata": {
    "application/vnd.databricks.v1+cell": {
     "cellMetadata": {
      "byteLimit": 2048000,
      "implicitDf": true,
      "rowLimit": 10000
     },
     "inputWidgets": {},
     "nuid": "8c05ff57-6fd1-46ec-8511-0c945913a019",
     "showTitle": false,
     "tableResultSettingsMap": {},
     "title": ""
    }
   },
   "outputs": [],
   "source": [
    "%sql\n",
    "Create or replace table retail_cpg_demo.brand_manager.product_reviews_structured (\n",
    "  structured_review VARIANT COMMENT 'Structured review',\n",
    "  rating DOUBLE COMMENT 'Rating of the product (from 1.0 to 5.0)',\n",
    "  title STRING COMMENT 'Title of the user review',\n",
    "  text STRING COMMENT 'Text body of the user review',\n",
    "  images VARIANT COMMENT 'Images that users post after they have received the product. Each image has different sizes (small, medium, large), represented by the small_image_url, medium_image_url, and large_image_url respectively',\n",
    "  asin STRING COMMENT 'ID of the product',\n",
    "  parent_asin STRING COMMENT 'Parent ID of the product. Products with different colors, styles, sizes usually belong to the same parent ID. The “asin” in previous Amazon datasets is actually parent ID. Please use parent ID to find product meta',\n",
    "  user_id STRING COMMENT 'ID of the reviewer',\n",
    "  timestamp BIGINT COMMENT 'Time of the review (unix time)',\n",
    "  verified_purchase BOOLEAN COMMENT 'User purchase verification',\n",
    "  helpful_vote LONG COMMENT 'Helpful votes of the review'\n",
    ")\n",
    "USING delta\n",
    "CLUSTER BY (parent_asin, asin, timestamp, rating)\n",
    "COMMENT 'Reviews of products';"
   ]
  },
  {
   "cell_type": "code",
   "execution_count": 0,
   "metadata": {
    "application/vnd.databricks.v1+cell": {
     "cellMetadata": {
      "byteLimit": 2048000,
      "implicitDf": true,
      "rowLimit": 10000
     },
     "inputWidgets": {},
     "nuid": "4ad3e346-f95f-48f5-a67e-097961c8be7a",
     "showTitle": false,
     "tableResultSettingsMap": {},
     "title": ""
    }
   },
   "outputs": [],
   "source": [
    "%sql\n",
    "CREATE OR REPLACE TABLE retail_cpg_demo.brand_manager.product_details (\n",
    "  main_category STRING COMMENT 'Main category (i.e., domain) of the product',\n",
    "  title STRING COMMENT 'Name of the product',\n",
    "  average_rating DOUBLE COMMENT 'Rating of the product shown on the product page',\n",
    "  rating_number LONG COMMENT 'Number of ratings in the product',\n",
    "  features variant COMMENT 'Bullet-point format features of the product',\n",
    "  description variant COMMENT 'Description of the product',\n",
    "  price DOUBLE COMMENT 'Price in US dollars (at time of crawling)',\n",
    "  images variant COMMENT 'Images of the product. Each image has different sizes (thumb, large, hi_res). The “variant” field shows the position of image',\n",
    "  videos variant COMMENT 'Videos of the product including title and url',\n",
    "  store STRING COMMENT 'Store name of the product',\n",
    "  categories variant COMMENT 'Hierarchical categories of the product',\n",
    "  details string COMMENT 'Product details, including materials, brand, sizes, etc.',\n",
    "  parent_asin STRING COMMENT 'Parent ID of the product',\n",
    "  bought_together variant COMMENT 'Recommended bundles from the websites'\n",
    ")\n",
    "USING delta\n",
    "CLUSTER BY (parent_asin, main_category)\n",
    "COMMENT 'Details of product page';"
   ]
  },
  {
   "cell_type": "code",
   "execution_count": 0,
   "metadata": {
    "application/vnd.databricks.v1+cell": {
     "cellMetadata": {
      "byteLimit": 2048000,
      "rowLimit": 10000
     },
     "inputWidgets": {},
     "nuid": "8462c669-cc78-4cc5-8edd-1e3d8c1dfd10",
     "showTitle": false,
     "tableResultSettingsMap": {},
     "title": ""
    }
   },
   "outputs": [],
   "source": [
    "import os\n",
    "import urllib.request\n",
    "\n",
    "categories = [\"All_Beauty\", \"Cell_Phones_and_Accessories\", \"Electronics\", \"Handmade_Products\", \"Industrial_and_Scientific\", \"Musical_Instruments\", \"Toys_and_Games\"]\n",
    "\n",
    "def download_reviews(category):\n",
    "  # URL of the dataset\n",
    "  url = f\"https://mcauleylab.ucsd.edu/public_datasets/data/amazon_2023/raw/review_categories/{category}.jsonl.gz\"\n",
    "\n",
    "  # Path to Volume\n",
    "  local_path = f\"/Volumes/retail_cpg_demo/brand_manager/data/reviews/{category}.jsonl.gz\"  \n",
    "\n",
    "  # Download the file using requests or curl (only if needed)\n",
    "  if not os.path.exists(local_path):\n",
    "      print(\"Downloading file...\")\n",
    "      urllib.request.urlretrieve(url, local_path)\n",
    "      print(\"Download complete.\")\n",
    "  return True\n",
    "\n",
    "def download_items(category):\n",
    "  # URL of the dataset\n",
    "  url = f\"https://mcauleylab.ucsd.edu/public_datasets/data/amazon_2023/raw/meta_categories/meta_{category}.jsonl.gz\"\n",
    "\n",
    "  # Path to Volume\n",
    "  local_path = f\"/Volumes/retail_cpg_demo/brand_manager/data/items/{category}.jsonl.gz\"  \n",
    "\n",
    "  # Download the file using requests or curl (only if needed)\n",
    "  if not os.path.exists(local_path):\n",
    "      print(\"Downloading file...\")\n",
    "      urllib.request.urlretrieve(url, local_path)\n",
    "      print(\"Download complete.\")\n",
    "  return True\n",
    "\n",
    "\n",
    "for category in categories:\n",
    "  print(f\"Loading {category}\")\n",
    "  download_reviews(category)\n",
    "  download_items(category)\n",
    "\n",
    "  "
   ]
  },
  {
   "cell_type": "code",
   "execution_count": 0,
   "metadata": {
    "application/vnd.databricks.v1+cell": {
     "cellMetadata": {
      "byteLimit": 2048000,
      "implicitDf": true,
      "rowLimit": 10000
     },
     "inputWidgets": {},
     "nuid": "1e67c4d5-fb22-452e-8d50-32527d09652a",
     "showTitle": false,
     "tableResultSettingsMap": {},
     "title": ""
    }
   },
   "outputs": [],
   "source": [
    "%sql\n",
    "DROP TABLE retail_cpg_demo.brand_manager.product_details;\n",
    "DROP TABLE retail_cpg_demo.brand_manager.product_reviews;"
   ]
  },
  {
   "cell_type": "code",
   "execution_count": 0,
   "metadata": {
    "application/vnd.databricks.v1+cell": {
     "cellMetadata": {
      "byteLimit": 2048000,
      "rowLimit": 10000
     },
     "inputWidgets": {},
     "nuid": "8f922a07-5655-4501-bf73-af487afda56e",
     "showTitle": false,
     "tableResultSettingsMap": {},
     "title": ""
    }
   },
   "outputs": [],
   "source": [
    "from pyspark.sql.functions import concat_ws, col, to_json\n",
    "\n",
    "categories = [\"All_Beauty\", \"Cell_Phones_and_Accessories\", \"Electronics\", \"Handmade_Products\", \"Industrial_and_Scientific\", \"Musical_Instruments\", \"Toys_and_Games\"]\n",
    "\n",
    "for category in categories:\n",
    "  # Load the items JSONL.GZ files into a Spark DataFrame and write to a table\n",
    "  df_items = spark.read.json(f\"/Volumes/retail_cpg_demo/brand_manager/data/items/{category}.jsonl.gz\", multiLine=True)\n",
    "  df_items = (df_items.withColumn(\"details\", to_json(col(\"details\")))\n",
    "                      .withColumn(\"categories\", to_json(col(\"categories\")))\n",
    "                      .withColumn(\"description\", to_json(col(\"description\")))\n",
    "                      .withColumn(\"features\", to_json(col(\"features\")))\n",
    "                      .withColumn(\"images\", to_json(col(\"images\")))\n",
    "                      .withColumn(\"videos\", to_json(col(\"videos\")))\n",
    "                      .withColumn(\"price\", col(\"price\").cast(\"double\"))\n",
    "                      .select(\"parent_asin\",\"main_category\",\"average_rating\",\"rating_number\",\"price\",\"title\",\"description\",\"details\",\"features\",\"bought_together\",\"categories\",\"images\",\"store\",\"videos\")\n",
    "  )\n",
    "  df_items.write.mode(\"append\").saveAsTable(\"retail_cpg_demo.brand_manager.product_details\")\n",
    "\n",
    "  # Load the reviews JSONL.GZ files into a Spark DataFrame and write to a table\n",
    "  df_reviews = spark.read.json(f\"/Volumes/retail_cpg_demo/brand_manager/data/reviews/{category}.jsonl.gz\", multiLine=True)\n",
    "  df_reviews = df_reviews.withColumn(\"images\", to_json(col(\"images\")))\n",
    "  df_reviews.write.mode(\"append\").saveAsTable(\"retail_cpg_demo.brand_manager.product_reviews\")\n"
   ]
  },
  {
   "cell_type": "code",
   "execution_count": 0,
   "metadata": {
    "application/vnd.databricks.v1+cell": {
     "cellMetadata": {
      "byteLimit": 2048000,
      "rowLimit": 10000
     },
     "inputWidgets": {},
     "nuid": "7d8d654d-5eff-4482-97f6-c71fb1378cd1",
     "showTitle": false,
     "tableResultSettingsMap": {},
     "title": ""
    }
   },
   "outputs": [],
   "source": [
    "#Having to get cute here to avoid hitting api limits\n",
    "#Note - 100k inferences = ~40min in benchmarks.  Reducing this to only rows for the years 2022 and 2023 to avoid needing to process too much.  We can change this later if needed.\n",
    "\n",
    "import time\n",
    "\n",
    "batch_size = 100000\n",
    "batch_number = 0\n",
    "done = False\n",
    "\n",
    "while not done:\n",
    "    query = \"\"\"\n",
    "    WITH numbered_rows AS (\n",
    "      Select\n",
    "        *\n",
    "        ,row_number() over (order by parent_asin, user_id, `timestamp`) as rn\n",
    "      FROM retail_cpg_demo.brand_manager.product_reviews \n",
    "      Where from_unixtime(`timestamp`/1000)::date >= '2022-01-01'\n",
    "    )\n",
    "    SELECT ai_query(\n",
    "            \"databricks-meta-llama-3-3-70b-instruct\",\n",
    "            CONCAT(\n",
    "              'Extract the following information from the review: ',\n",
    "              'Sentiment (how does the customer feel about the product mentioned in the review in 2 words or less), Sentiment Score (1-5), Positive Feature (what are the positive features mentioned in the review) (comma separate if multiple), Negative Feature (what are the negative features mentioned in the review) (comma separate if multiple), Missing Feature (what are the features wished for or wanted mentioned in the review) (comma separate if multiple), Unexpected Uses (what are the unexpected uses mentioned in the review that are not like the description) (comma separate if multiple).',\n",
    "              'If the review doesnt contain an element, leave it blank or set it to zero. For instance, if the review does not mention specific features, then set feature = null. All scores should be 1-5 (if they are not null), with 1 being the worst and 5 being the best.',\n",
    "              'Review: ', r.title, '. ', r.text,\n",
    "              'Description: ', pd.title, '. ', pd.description \n",
    "            ),\n",
    "            responseFormat => '{\n",
    "                \"type\": \"json_schema\",\n",
    "                \"json_schema\": {\n",
    "                    \"name\": \"review_extraction\",\n",
    "                    \"schema\": {\n",
    "                        \"type\": \"object\",\n",
    "                        \"properties\": {\n",
    "                            \"sentiment\": { \"type\": \"string\" },\n",
    "                            \"sentiment_score\": { \"type\": \"integer\" },\n",
    "                            \"positive_feature\": { \"type\": \"string\" },\n",
    "                            \"negative_feature\": { \"type\": \"string\" },\n",
    "                            \"missing_feature\": { \"type\": \"string\" },\n",
    "                            \"unexpected_uses\": { \"type\": \"string\" }\n",
    "                        }\n",
    "                    },\n",
    "                    \"strict\": true\n",
    "                }\n",
    "            }'\n",
    "        ) AS structured_review, \n",
    "        from_unixtime(r.`timestamp`/1000)::date as date,\n",
    "        r.*\n",
    "    FROM numbered_rows r\n",
    "    INNER JOIN retail_cpg_demo.brand_manager.product_details pd\n",
    "      ON r.parent_asin = pd.parent_asin \"\"\" + f\"\"\"\n",
    "    WHERE rn > {batch_size * batch_number}\n",
    "      AND rn <= {batch_size * (batch_number + 1)}\n",
    "    \"\"\"\n",
    "    \n",
    "    df_batch = spark.sql(query)\n",
    "    count = df_batch.count()\n",
    "\n",
    "    if count == 0:\n",
    "        done = True\n",
    "    else:\n",
    "        # Insert batch\n",
    "        print(f\"Processing batch {batch_number + 1} with {count} rows\")\n",
    "        df_batch.write.mode(\"append\").saveAsTable(\"retail_cpg_demo.brand_manager.product_reviews_structured\")\n",
    "        batch_number += 1\n",
    "        time.sleep(5)  # Wait 5 seconds"
   ]
  },
  {
   "cell_type": "code",
   "execution_count": 0,
   "metadata": {
    "application/vnd.databricks.v1+cell": {
     "cellMetadata": {
      "byteLimit": 2048000,
      "implicitDf": true,
      "rowLimit": 10000
     },
     "inputWidgets": {},
     "nuid": "051129f6-45d7-482c-871c-202b08d79e0f",
     "showTitle": false,
     "tableResultSettingsMap": {},
     "title": ""
    }
   },
   "outputs": [],
   "source": [
    "%sql\n",
    "Select *\n",
    "FROM (\n",
    "Select \n",
    "      lower(structured_review:sentiment::string) AS sentiment\n",
    "      ,structured_review:sentiment_score::int as sentiment_score\n",
    "      ,structured_review:positive_feature::string as positive_feature\n",
    "      ,structured_review:negative_feature::string as negative_feature\n",
    "      ,structured_review:missing_feature::string as missing_feature\n",
    "      ,structured_review:unexpected_uses::string as unexpected_uses\n",
    "      ,details:Brand\n",
    "      ,*\n",
    "FROM retail_cpg_demo.brand_manager.product_reviews_structured r\n",
    "INNER JOIN retail_cpg_demo.brand_manager.product_details pd\n",
    "ON r.parent_asin = pd.parent_asin\n",
    "\n",
    ")"
   ]
  }
 ],
 "metadata": {
  "application/vnd.databricks.v1+notebook": {
   "computePreferences": null,
   "dashboards": [],
   "environmentMetadata": {
    "base_environment": "",
    "environment_version": "2"
   },
   "inputWidgetPreferences": null,
   "language": "python",
   "notebookMetadata": {
    "mostRecentlyExecutedCommandWithImplicitDF": {
     "commandId": 2841115366995656,
     "dataframes": [
      "_sqldf"
     ]
    },
    "pythonIndentUnit": 2
   },
   "notebookName": "brand_manager_import_data",
   "widgets": {}
  },
  "language_info": {
   "name": "python"
  }
 },
 "nbformat": 4,
 "nbformat_minor": 0
}
